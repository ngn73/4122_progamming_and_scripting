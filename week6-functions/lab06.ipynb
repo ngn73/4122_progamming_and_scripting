{
 "cells": [
  {
   "cell_type": "markdown",
   "metadata": {},
   "source": [
    "# Lab Topic 06-Functions Quiz/Lab"
   ]
  },
  {
   "cell_type": "code",
   "execution_count": null,
   "metadata": {},
   "outputs": [],
   "source": [
    "# function yo takes one parameter\n",
    "def yo(a):\n",
    " return a * 2\n",
    "# here we are calling the function yo\n",
    "# and are passing in an argument, 3\n",
    "yo(3)"
   ]
  },
  {
   "cell_type": "markdown",
   "metadata": {},
   "source": [
    "Look at the program above:</br>\n",
    "* What will be printed out when this program is run?</br>\n",
    "* What would you have to add to the program to get it to print out what </br>\n",
    "the calling the function yo(3) returns?"
   ]
  },
  {
   "cell_type": "markdown",
   "metadata": {},
   "source": [
    "Answer:\n",
    "* The program will call the function yo(), but will output nothing without a print statement\n",
    "* Add print (yo(3))\n",
    "***"
   ]
  },
  {
   "cell_type": "markdown",
   "metadata": {},
   "source": [
    "2. Write a function that prints out a menu of commands we can perform, ie add, </br>\n",
    "view and quit. The function should return what the user chose. </br>\n",
    "Test the function. We don’t need to worry about error handling yet </br>\n",
    "\n",
    "```python\n",
    "What would you like to do?\n",
    " (a) Add new student\n",
    " (v) View students\n",
    " (q) Quit\n",
    "Type one letter (a/v/q):d\n",
    "you chose d\n",
    "```"
   ]
  },
  {
   "cell_type": "code",
   "execution_count": null,
   "metadata": {},
   "outputs": [],
   "source": [
    "def displayMenu():\n",
    " print(\"What would you like to do?\")\n",
    " print(\"\\t(a) Add new student\")\n",
    " print(\"\\t(v) View students\")\n",
    " print(\"\\t(q) Quit\")\n",
    " choice = input(\"Type one letter (a/v/q):\").strip()\n",
    " return choice\n",
    "#test the function\n",
    "choice = displayMenu()\n",
    "print(f\"you chose { choice }\")"
   ]
  },
  {
   "cell_type": "markdown",
   "metadata": {},
   "source": [
    "***"
   ]
  },
  {
   "cell_type": "markdown",
   "metadata": {},
   "source": [
    "3. We will now use that function.</br> \n",
    "Create a program that keeps displaying the </br>\n",
    "menu until the user picks q. if the user chooses a then call a function called</br> \n",
    "doAdd() if the user chooses v then call a function called doView().</br>\n",
    "\n"
   ]
  },
  {
   "cell_type": "code",
   "execution_count": null,
   "metadata": {},
   "outputs": [],
   "source": [
    "'''\n",
    "Code based on Andrew Beatty's Proposed Answer in Lab 06 Worksheet\n",
    "'''\n",
    "def displayMenu():\n",
    " print(\"What would you like to do?\")\n",
    " print(\"\\t(a) Add new student\")\n",
    " print(\"\\t(v) View students\")\n",
    " print(\"\\t(q) Quit\")\n",
    " choice = input(\"Type one letter (a/v/q):\").strip()\n",
    " return choice\n",
    "\n",
    "def doAdd():\n",
    " print(\"in adding\") #Implemented in next task\n",
    "\n",
    "def doView():\n",
    " print(\"in viewing\")\n",
    "\n",
    "user_choice = displayMenu()\n",
    "\n",
    "while user_choice != \"q\":\n",
    " if (user_choice.lower() == 'a'):\n",
    "  doAdd()\n",
    " elif(user_choice.lower() == 'v'):\n",
    "  doView()\n",
    " elif(user_choice.lower() == 'q'):\n",
    "  break\n",
    " else: #invalid input\n",
    "  print(\"\\n\\nplease select either a,v or q\")\n",
    " #get another input choice\n",
    " user_choice = displayMenu()\n",
    "\n",
    " print(\"Good bye!\")"
   ]
  },
  {
   "cell_type": "markdown",
   "metadata": {},
   "source": [
    "***\n",
    "4. We can now write the function doAdd(students). So we need to think what </br>\n",
    "we want this to do.</br>\n",
    "* Read in the student’s name (that is straightforward)</br>\n",
    "* Read in the module names and grades (this is a bit more complicated </br>\n",
    "so let’s put this in separate function and think about it by itself, see 5 below)</br>\n",
    "* Test this function, it creates a student dict, we can print that out.</br>\n",
    "* We should add the student dict to list (pass this list in)</br>\n",
    "* Test this.</br>\n",
    "</br>\n",
    "> Note: I have put this in a separate file, I am not thinking about the menu at the </br>\n",
    "moment, I just what to see if I can read in a student</br>"
   ]
  },
  {
   "cell_type": "code",
   "execution_count": null,
   "metadata": {},
   "outputs": [],
   "source": [
    "'''\n",
    "Code based on Andrew Beatty's Proposed Answer in Lab 06 Worksheet\n",
    "'''\n",
    "def displayMenu():\n",
    " print(\"What would you like to do?\")\n",
    " print(\"\\t(a) Add new student\")\n",
    " print(\"\\t(v) View students\")\n",
    " print(\"\\t(q) Quit\")\n",
    " choice = input(\"Type one letter (a/v/q):\").strip()\n",
    " return choice\n",
    "\n",
    "def readModules(): #not implemented yet\n",
    " return []\n",
    " \n",
    "def doAdd():\n",
    " student_name = input(\"enter name : \")\n",
    " student_modules = readModules()\n",
    " \n",
    " #add to a Directory my_student\n",
    " my_student = {}\n",
    " my_student[\"name\"] = student_name\n",
    " my_student[\"modules\"] = student_modules\n",
    "\n",
    "def doView():#not implemented yet\n",
    " print(\"in viewing\")\n",
    "\n",
    "user_choice = displayMenu()\n",
    "\n",
    "while user_choice != \"q\":\n",
    " if (user_choice.lower() == 'a'):\n",
    "  doAdd()\n",
    " elif(user_choice.lower() == 'v'):\n",
    "  doView()\n",
    " elif(user_choice.lower() == 'q'):\n",
    "  break\n",
    " else: #invalid input\n",
    "  print(\"\\n\\nplease select either a,v or q\")\n",
    " #get another input choice\n",
    " user_choice = displayMenu()\n",
    "\n",
    " print(\"Good bye!\")\n",
    " \n"
   ]
  },
  {
   "cell_type": "markdown",
   "metadata": {},
   "source": [
    "***\n",
    "5. We can now think about how to read in the modules. </br>\n",
    "We want to keep reading modules until the user enters a module name of blank. </br>\n",
    "</br>\n",
    "Doesn’t the data structure look ugly, and hard to read. Maybe I should have done the </br>\n",
    "function to view it before the function to add new ones!!</br>"
   ]
  },
  {
   "cell_type": "code",
   "execution_count": null,
   "metadata": {},
   "outputs": [],
   "source": [
    "'''\n",
    "Code based on Andrew Beatty's Proposed Answer in Lab 06 Worksheet\n",
    "'''\n",
    "def displayMenu():\n",
    " print(\"What would you like to do?\")\n",
    " print(\"\\t(a) Add new student\")\n",
    " print(\"\\t(v) View students\")\n",
    " print(\"\\t(q) Quit\")\n",
    " choice = input(\"Type one letter (a/v/q):\").strip()\n",
    " return choice\n",
    "\n",
    "def readModules():\n",
    " modules = []\n",
    " moduleName = input(\"\\tEnter the first Module name (blank to quit) :\").strip()\n",
    " \n",
    " while moduleName != \"\":\n",
    "  module = {}\n",
    "  module[\"name\"]= moduleName\n",
    "  module[\"grade\"]=int(input(\"\\t\\tEnter grade:\"))\n",
    "  modules.append(module)\n",
    "  # now read the next module name\n",
    "  moduleName = input(\"\\tEnter next module name (blank to quit):\").strip()\n",
    " return modules\n",
    " \n",
    "def doAdd():\n",
    " student_name = input(\"enter name : \")\n",
    " student_modules = readModules()\n",
    " \n",
    " #add to a Directory my_student\n",
    " my_student = {}\n",
    " my_student[\"name\"] = student_name\n",
    " my_student[\"modules\"] = student_modules\n",
    "\n",
    "def doView():#not implemented yet\n",
    " print(\"in viewing\")\n",
    "\n",
    "user_choice = displayMenu()\n",
    "\n",
    "while user_choice != \"q\":\n",
    " if (user_choice.lower() == 'a'):\n",
    "  doAdd()\n",
    " elif(user_choice.lower() == 'v'):\n",
    "  doView()\n",
    " elif(user_choice.lower() == 'q'):\n",
    "  break\n",
    " else: #invalid input\n",
    "  print(\"\\n\\nplease select either a,v or q\")\n",
    " #get another input choice\n",
    " user_choice = displayMenu()\n",
    "\n",
    " print(\"Good bye!\")"
   ]
  }
 ],
 "metadata": {
  "kernelspec": {
   "display_name": "base",
   "language": "python",
   "name": "python3"
  },
  "language_info": {
   "codemirror_mode": {
    "name": "ipython",
    "version": 3
   },
   "file_extension": ".py",
   "mimetype": "text/x-python",
   "name": "python",
   "nbconvert_exporter": "python",
   "pygments_lexer": "ipython3",
   "version": "3.12.7"
  }
 },
 "nbformat": 4,
 "nbformat_minor": 2
}
