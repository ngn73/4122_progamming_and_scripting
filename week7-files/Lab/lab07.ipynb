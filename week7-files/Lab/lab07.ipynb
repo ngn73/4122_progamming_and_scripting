{
 "cells": [
  {
   "cell_type": "markdown",
   "metadata": {},
   "source": [
    "# Lab Topic 06-File Handling Quiz/Lab"
   ]
  },
  {
   "cell_type": "markdown",
   "metadata": {},
   "source": [
    "1. Look at the program below, if the file test-a.txt does not exist. </br>\n",
    "What will happen when the program runs?"
   ]
  },
  {
   "cell_type": "code",
   "execution_count": null,
   "metadata": {},
   "outputs": [],
   "source": [
    "with open(\"test-a.txt\") as f:\n",
    " data = f.read()\n",
    " print (data)"
   ]
  },
  {
   "cell_type": "markdown",
   "metadata": {},
   "source": [
    "Python runtime throws a FileNotFoundError"
   ]
  },
  {
   "cell_type": "markdown",
   "metadata": {},
   "source": [
    "2. Look at the program below, if the file test-b.txt does not exist, what will be\n",
    "outputted to the console when this program is run?\n",
    "3. What will the contents of the file test-b.txt be when this program is run?"
   ]
  },
  {
   "cell_type": "code",
   "execution_count": null,
   "metadata": {},
   "outputs": [
    {
     "name": "stdout",
     "output_type": "stream",
     "text": [
      "7\n",
      "13\n"
     ]
    }
   ],
   "source": [
    "# the with statement will automatically close the file\n",
    "# when it is finished with it\n",
    "with open(\"test-b.txt\", \"w\") as f:\n",
    " data = f.write(\"test b\\n\") # returns the number of chars written\n",
    " print (data)\n",
    "with open(\"test-b.txt\", \"w\") as f2: # open file again\n",
    " data = f2.write(\"another line\\n\")\n",
    " print (data)"
   ]
  },
  {
   "cell_type": "markdown",
   "metadata": {},
   "source": [
    "With the use of the\"w\" (Write option), the file does not need to pre-exist as we write to a new file.\n",
    "No errors occur.\n",
    "With the second write operation, the contents of first write operation is overwritten, and file only contains \"another line\".\n",
    "Append option \"a\" should have been used to preserve first data write."
   ]
  },
  {
   "cell_type": "markdown",
   "metadata": {},
   "source": [
    "4. Look at the modified program below, what will the contents of the file be\n",
    "after this program is run."
   ]
  },
  {
   "cell_type": "code",
   "execution_count": null,
   "metadata": {},
   "outputs": [],
   "source": [
    "# The with statement will automatically close the file\n",
    "# when it is finished with it\n",
    "with open(\"test-d.txt\", \"w\") as f:\n",
    " data = f.write(\"test d\\n\") # returns the number of\n",
    "chars written\n",
    " print (data)\n",
    "with open(\"test-d.txt\", \"a\") as f2: # open file again\n",
    " data = f2.write(\"another line\\n\")\n",
    " print (data)"
   ]
  },
  {
   "cell_type": "markdown",
   "metadata": {},
   "source": [
    "Append option is chosen for second write so both data writes are preserved."
   ]
  },
  {
   "cell_type": "markdown",
   "metadata": {},
   "source": [
    "***\n",
    "## Lab: Messing with Files\n",
    "Write a program that counts how many times it was run.</br>\n",
    "For this exercise will have to store data outside of memory, and that is accessible</br>\n",
    "each time the program is run, (persistent data). We would normally use a</br>\n",
    "database for something like this, but we can use a file.</br>\n",
    "To make life easier let’s assume that the file already exists. So, we can just read</br>\n",
    "the current count from it then overwrite it with the new count.</br>\n",
    "Create a file called count.txt and put in 0 into it</br>"
   ]
  },
  {
   "cell_type": "markdown",
   "metadata": {},
   "source": [
    "a. Write a function that reads in a number from a file that already exists\n",
    "(count.txt). test the program by calling the function and outputting the\n",
    "number.\n",
    "\n",
    "b. Write a function that takes in a number and overwrites a file with that\n",
    "number (count.txt). test it and check that the file has been changed\n",
    "\n",
    "c. Write a program that, uses these two functions, to count how many times\n",
    "the program has been run. Test it, check to see that the number goes up\n",
    "each time.\n"
   ]
  },
  {
   "cell_type": "code",
   "execution_count": 10,
   "metadata": {},
   "outputs": [
    {
     "name": "stdout",
     "output_type": "stream",
     "text": [
      "we have run this program 3 times\n"
     ]
    }
   ],
   "source": [
    "FILENAME = \"count.txt\"\n",
    "def readNumber():\n",
    " with open(FILENAME) as f:\n",
    "  number = int(f.read())\n",
    "  return number\n",
    "\n",
    "def writeNumber(number):\n",
    " with open(FILENAME, \"wt\") as f:\n",
    "  # write takes a string so we need to convert\n",
    "  f.write(str(number)) \n",
    "\n",
    "# test it\n",
    "num = readNumber()\n",
    "num += 1\n",
    "print(f\"we have run this program {num} times\")\n",
    "writeNumber(num)\n"
   ]
  },
  {
   "cell_type": "markdown",
   "metadata": {},
   "source": [
    "In this question we assume that the file count.txt exists, what happens the first time\n",
    "you run this program on a new machine where count.txt does not exist?\n",
    "(answer: The program will throw an error, so)</br>\n",
    "Should we:</br>\n",
    "* Make the user create the file “by hand” before they run the program, (this is</br>\n",
    "easy of the user in this case but more difficult for more complicated data</br>\n",
    "structures)</br>\n",
    "* Create an “init” program that initializes the file, in this case it will just put 0</br>\n",
    "into the file.</br>\n",
    "(The function will need to be written into the file as well of course)</br>"
   ]
  },
  {
   "cell_type": "code",
   "execution_count": 12,
   "metadata": {},
   "outputs": [
    {
     "name": "stdout",
     "output_type": "stream",
     "text": [
      "we have run this program 2 times\n"
     ]
    }
   ],
   "source": [
    "#Delete count.txt file before testing!\n",
    "import os.path\n",
    "\n",
    "FILENAME = \"count.txt\"\n",
    "def readNumber():\n",
    " with open(FILENAME) as f:\n",
    "  number = int(f.read())\n",
    "  return number\n",
    "\n",
    "def writeNumber(number):\n",
    " with open(FILENAME, \"wt\") as f:\n",
    "  # write takes a string so we need to convert\n",
    "  f.write(str(number)) \n",
    "\n",
    "# test existence of file first\n",
    "if not os.path.isfile(FILENAME):\n",
    " print (\"File does not exist\")\n",
    " #initialise file here\n",
    " writeNumber(0)\n",
    "\n",
    "num = readNumber()\n",
    "num += 1\n",
    "print(f\"we have run this program {num} times\")\n",
    "writeNumber(num)"
   ]
  },
  {
   "cell_type": "markdown",
   "metadata": {},
   "source": [
    "***\n",
    "## Using json module to save a data structure (Dict or List)\n",
    "If we want to store a more complicated data structure to a file, we should use either:</br>\n",
    "1. JSON: Which will store the data structure in a human readable way. JSON</br>\n",
    "is a standard way of storing objects, you will see more on this later in the</br>\n",
    "course.</br></br>\n",
    "Python has a module called json, which has two functions:</br>\n",
    "* dump(obj, fp); which writes a Dict or list to a file</br>\n",
    "And</br>\n",
    "* load(fp): which loads a data structure (Dict or list) from a file</br>\n",
    "Or</br>\n",
    "2. Pickle: Which will store the data structure in binary format (not human readable).</br>\n"
   ]
  },
  {
   "cell_type": "markdown",
   "metadata": {},
   "source": [
    "Write a function that will store a simple Dict to a file as JSON. *TEST IT*\n"
   ]
  },
  {
   "cell_type": "code",
   "execution_count": 13,
   "metadata": {},
   "outputs": [],
   "source": [
    "import json\n",
    "\n",
    "def writeDict(obj):\n",
    " with open(FILENAME, 'wt') as f:\n",
    "  json.dump(obj,f)\n",
    "\n",
    "\n",
    "#test the function\n",
    "FILENAME=\"testdict.json\"\n",
    "sample= dict(name='fred', age=31, grades=[1,34,55])\n",
    "writeDict(sample)"
   ]
  },
  {
   "cell_type": "markdown",
   "metadata": {},
   "source": [
    "Look at the contents of the file testdict.json, you will see that it is very similar to\n",
    "a Dict, this format is called JSON (javaScript Object Notation), as I said we will be\n",
    "doing more on this later.</br>\n",
    "`{\"name\": \"fred\", \"age\": 31, \"grades\": [1, 34, 55]}`"
   ]
  },
  {
   "cell_type": "markdown",
   "metadata": {},
   "source": [
    "Write a function that will read in a dict object from file. TEST IT"
   ]
  },
  {
   "cell_type": "code",
   "execution_count": 1,
   "metadata": {},
   "outputs": [
    {
     "name": "stdout",
     "output_type": "stream",
     "text": [
      "{'name': 'fred', 'age': 31, 'grades': [1, 34, 55]}\n"
     ]
    }
   ],
   "source": [
    "import json\n",
    "\n",
    "def readDict():\n",
    " # this will throw an error if the file does not exist\n",
    " # it should readly just return an empty dict\n",
    " # we can do this later\n",
    " with open(FILENAME) as f:\n",
    "  return json.load(f)\n",
    "\n",
    "# test the function\n",
    "FILENAME =\"testdict.json\"\n",
    "somedict = readDict()\n",
    "print(somedict)"
   ]
  },
  {
   "cell_type": "markdown",
   "metadata": {},
   "source": [
    "***\n",
    "With the program we made last week, create a new menu item called save. When\n",
    "the user selects the doSave() function should be called \n",
    "</br>*the do save can do nothing but printout doSave for the moment.*</br>"
   ]
  },
  {
   "cell_type": "markdown",
   "metadata": {},
   "source": [
    "*My version of last week's code a little different ...*"
   ]
  },
  {
   "cell_type": "code",
   "execution_count": 2,
   "metadata": {},
   "outputs": [
    {
     "name": "stdout",
     "output_type": "stream",
     "text": [
      "What would you like to do?\n",
      "\t(a) Add new student\n",
      "\t(v) View students\n",
      "\t(s) Save students\n",
      "\t(q) Quit\n",
      "What would you like to do?\n",
      "\t(a) Add new student\n",
      "\t(v) View students\n",
      "\t(s) Save students\n",
      "\t(q) Quit\n",
      "What would you like to do?\n",
      "\t(a) Add new student\n",
      "\t(v) View students\n",
      "\t(s) Save students\n",
      "\t(q) Quit\n",
      "Good bye!\n"
     ]
    }
   ],
   "source": [
    "\n",
    "#display menu\n",
    "def displayMenu():\n",
    " print(\"What would you like to do?\")\n",
    " print(\"\\t(a) Add new student\")\n",
    " print(\"\\t(v) View students\")\n",
    " print(f\"\\t(s) Save students\")\n",
    " print(\"\\t(q) Quit\")\n",
    " choice = input(\"Type one letter (a/v/q):\").strip()\n",
    " return choice\n",
    "\n",
    "#Get user input for student Module data (name, grade), return a list\n",
    "def readModules():\n",
    " modules = []\n",
    " moduleName = input(\"\\tEnter the first Module name (blank to quit) :\").strip()\n",
    " \n",
    " while moduleName != \"\":\n",
    "  module = {}\n",
    "  module[\"name\"]= moduleName\n",
    "  module[\"grade\"]=int(input(\"\\tEnter grade:\"))\n",
    "  modules.append(module)\n",
    "  # now read the next module name\n",
    "  moduleName = input(\"\\tEnter next module name (blank to quit):\").strip()\n",
    " return modules\n",
    "\n",
    "#Get user input for student Name and Module data, returns dictionary \n",
    "def doAdd():\n",
    " student_name = input(\"enter name : \")\n",
    " student_modules = readModules()\n",
    " \n",
    " #add to a Directory my_student\n",
    " my_student = {}\n",
    " my_student[\"name\"] = student_name\n",
    " my_student[\"modules\"] = student_modules\n",
    " \n",
    " return my_student\n",
    "\n",
    "#Display current status of Student data\n",
    "def doView(students):\n",
    " for student in students:  # Each Student is a Directory (keys: name/modules)\n",
    "  displayStudent(student)\n",
    "  displayModules(student)\n",
    "\n",
    "def displayStudent(student):\n",
    " print(f\"Student Name : {student['name']}\")\n",
    "\n",
    "def displayModules(student):\n",
    " for module in student[\"modules\"]: # Modules is a List, each module is a directory (keys: name/grade)\n",
    "  print(f\"\\tModule : {module['name']} : Grade {module['grade']}\")\n",
    "\n",
    "def doSave(students):\n",
    "#you will put the call to save dict here\n",
    " saveDict(students)\n",
    " print(f\"Saved data to json file {FILENAME}\")\n",
    "\n",
    "def saveDict(obj):\n",
    " with open(FILENAME, 'wt') as f:\n",
    "  json.dump(obj,f)\n",
    "\n",
    "FILENAME =\"studentdata.json\"\n",
    "student_details = []\n",
    "user_choice = displayMenu()\n",
    "\n",
    "while user_choice != \"q\":\n",
    " if (user_choice.lower() == 'a'):\n",
    "  student_details.append(doAdd()) #Add collected Student details (name/modules/grades) to List\n",
    " elif(user_choice.lower() == 'v'):\n",
    "  doView(student_details) #display current collection of Students (name/modules/grades)\n",
    " elif(user_choice.lower() == 'q'):\n",
    "  break #Leave menu\n",
    " else: #invalid input\n",
    "  print(\"\\n\\nplease select either a,v or q\")\n",
    " #get another input choice\n",
    " user_choice = displayMenu()\n",
    "\n",
    "print(\"Good bye!\")"
   ]
  },
  {
   "cell_type": "markdown",
   "metadata": {},
   "source": [
    "Modify the program so that there is a load menu item, and a doLoad() function.\n",
    "The do load function should call the readDict() function return it so that is can be\n",
    "stored in the students list."
   ]
  },
  {
   "cell_type": "markdown",
   "metadata": {},
   "source": [
    "<font color=\"Sky Blue\">Final Version of code saved to **lab07.final.py**</font>"
   ]
  }
 ],
 "metadata": {
  "kernelspec": {
   "display_name": "base",
   "language": "python",
   "name": "python3"
  },
  "language_info": {
   "codemirror_mode": {
    "name": "ipython",
    "version": 3
   },
   "file_extension": ".py",
   "mimetype": "text/x-python",
   "name": "python",
   "nbconvert_exporter": "python",
   "pygments_lexer": "ipython3",
   "version": "3.12.7"
  }
 },
 "nbformat": 4,
 "nbformat_minor": 2
}
