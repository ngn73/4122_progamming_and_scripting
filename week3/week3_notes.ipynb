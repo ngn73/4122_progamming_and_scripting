{
 "cells": [
  {
   "cell_type": "markdown",
   "metadata": {},
   "source": [
    "# Notes on Week #3 Tasks"
   ]
  },
  {
   "cell_type": "markdown",
   "metadata": {},
   "source": [
    "Just a series of **personal** notes/observations on Tasks assigned. Just practicing with Jupyter Notebook creation"
   ]
  },
  {
   "cell_type": "markdown",
   "metadata": {},
   "source": [
    "I Always perfer explicitedly defining Data Types. Python allows implicit typing."
   ]
  },
  {
   "cell_type": "code",
   "execution_count": 17,
   "metadata": {},
   "outputs": [
    {
     "name": "stdout",
     "output_type": "stream",
     "text": [
      "<class 'int'>\n",
      "<class 'float'>\n",
      "<class 'float'>\n"
     ]
    }
   ],
   "source": [
    "num1 = 2\n",
    "num2 = 4.0\n",
    "print(type(num1))\n",
    "print(type(num2))\n",
    "\n",
    "num3 = num1 + num2\n",
    "#So what is num3's type ?\n",
    "print(type(num3))"
   ]
  },
  {
   "cell_type": "markdown",
   "metadata": {},
   "source": [
    "You can use Python Type Casting ..."
   ]
  },
  {
   "cell_type": "code",
   "execution_count": 18,
   "metadata": {},
   "outputs": [
    {
     "name": "stdout",
     "output_type": "stream",
     "text": [
      "<class 'int'>\n",
      "<class 'float'>\n",
      "6\n",
      "<class 'int'>\n"
     ]
    }
   ],
   "source": [
    "num1 = int(2)\n",
    "num2 = float(4)\n",
    "print(type(num1))\n",
    "print(type(num2))\n",
    "\n",
    "num3 = int(num1 + num2)\n",
    "print(num3)\n",
    "print(type(num3))"
   ]
  },
  {
   "cell_type": "markdown",
   "metadata": {},
   "source": [
    "When Casting Floats to Int ... an Error is **sometimes** thrown"
   ]
  },
  {
   "cell_type": "code",
   "execution_count": 12,
   "metadata": {},
   "outputs": [
    {
     "name": "stdout",
     "output_type": "stream",
     "text": [
      "1\n"
     ]
    }
   ],
   "source": [
    "#Hardcode in value ... Accetped\n",
    "num1 = int(1.23456)\n",
    "print(f\"{num1}\")\n",
    "\n",
    "#but if you manually input \"1.23456\" ... Error \"invalid literal for int() with base 10: '1.2564'\"\n",
    "num2 = int(input(\"Enter a Flaoting Number : \"))\n",
    "print(f\"{num2}\")"
   ]
  },
  {
   "cell_type": "markdown",
   "metadata": {},
   "source": [
    "How are Array's handled in Python ? <br/>\n",
    "What are ...<br/>\n",
    "- Arrays\n",
    "- Lists\n",
    "- Tuples ?"
   ]
  },
  {
   "cell_type": "markdown",
   "metadata": {
    "vscode": {
     "languageId": "raw"
    }
   },
   "source": [
    "https://www.geeksforgeeks.org/python-list-vs-array-vs-tuple/"
   ]
  },
  {
   "cell_type": "markdown",
   "metadata": {
    "vscode": {
     "languageId": "html"
    }
   },
   "source": [
    "|List|Array|Tuple|\n",
    "|-------------|------------|----------------|\n",
    "|List is mutable|Array is mutable|Tuple is immutable|\n",
    "|A list is ordered collection of items|An array is ordered collection of items|A tuple is an ordered collection of items|\n",
    "|Item in the list can be changed or replaced|Item in the array can be changed or replaced|Item in the tuple cannot be changed or replaced|\n",
    "|List can store more than one data type|Array can store only similar data types|Tuple can store more than one data type|\n",
    "|Declared with square brakets|Declared with square brakets|Declared with curved brakets|"
   ]
  },
  {
   "cell_type": "markdown",
   "metadata": {},
   "source": [
    "***"
   ]
  },
  {
   "cell_type": "markdown",
   "metadata": {},
   "source": [
    "## Questions :"
   ]
  },
  {
   "cell_type": "markdown",
   "metadata": {},
   "source": [
    "Exercise 3.1 Questions\n",
    "***"
   ]
  },
  {
   "cell_type": "markdown",
   "metadata": {},
   "source": [
    "3.1.6. Why does this expression cause an error? How can you fix it?\n"
   ]
  },
  {
   "cell_type": "markdown",
   "metadata": {},
   "source": [
    "_Need to pass 99 as a string ... i.e \"99\" or str(99)_"
   ]
  },
  {
   "cell_type": "code",
   "execution_count": 1,
   "metadata": {},
   "outputs": [
    {
     "name": "stdout",
     "output_type": "stream",
     "text": [
      "I have eaten 99 burritos.\n"
     ]
    }
   ],
   "source": [
    "message = 'I have eaten ' + \"99\" + ' burritos.'\n",
    "print (message)"
   ]
  },
  {
   "cell_type": "code",
   "execution_count": 16,
   "metadata": {},
   "outputs": [
    {
     "name": "stdout",
     "output_type": "stream",
     "text": [
      "I have eaten 99 burritos.\n"
     ]
    }
   ],
   "source": [
    "message = 'I have eaten ' + str(99) + ' burritos.'\n",
    "print (message)"
   ]
  },
  {
   "cell_type": "markdown",
   "metadata": {},
   "source": [
    "\n",
    "3.1.7. Why is eggs a valid variable name while 100 is invalid?<br/>\n",
    "_A Variable Name must inform coder of context of what varable stores. \"100\" is only a Number and meaningless_<br/><br/><br/>\n",
    "3.1.8. What three functions can be used to get the integer, floating-point number, or\n",
    "string version of a value?<br/>\n",
    "_To cast a variable an int use_ __int()__ <br/>\n",
    "_To cast a variable a float use_ __float()__ <br/>\n",
    "_To cast a variable a string use_ __str()__ <br/>\n"
   ]
  },
  {
   "cell_type": "markdown",
   "metadata": {},
   "source": [
    "Exercise 3.2 Questions\n",
    "***"
   ]
  },
  {
   "cell_type": "markdown",
   "metadata": {},
   "source": [
    "I am writing an application, at the moment, in it I take an input of an amount\n",
    "in the form -9.44 (9 dollars and 44 cent), the issue there may or may not be a\n",
    "minus sign, and the bank takes in the amount in cent, (944). Write a program\n",
    "called convert.py that takes in a float amount of dollars and returns that\n",
    "absolute amount in cent"
   ]
  },
  {
   "cell_type": "code",
   "execution_count": 5,
   "metadata": {},
   "outputs": [
    {
     "name": "stdout",
     "output_type": "stream",
     "text": [
      "The absolute amount in cents is 599\n"
     ]
    }
   ],
   "source": [
    "#Get Floating Number\n",
    "f_input = float(input(\"Enter floating point amount (positive or negative) : \"))\n",
    "\n",
    "#round to 2 places of decimal (as it is money) and multiply by 100\n",
    "f_2_input = (round(f_input, 2)) *100\n",
    "#This will round up the 3 place of decimal entered\n",
    "\n",
    "#cast to int and Get absolute amount\n",
    "abs_input = abs(int(f_2_input))\n",
    "\n",
    "\n",
    "#Output result\n",
    "print(f'The absolute amount in cents is {abs_input}')"
   ]
  }
 ],
 "metadata": {
  "kernelspec": {
   "display_name": "base",
   "language": "python",
   "name": "python3"
  },
  "language_info": {
   "codemirror_mode": {
    "name": "ipython",
    "version": 3
   },
   "file_extension": ".py",
   "mimetype": "text/x-python",
   "name": "python",
   "nbconvert_exporter": "python",
   "pygments_lexer": "ipython3",
   "version": "3.12.7"
  }
 },
 "nbformat": 4,
 "nbformat_minor": 2
}
