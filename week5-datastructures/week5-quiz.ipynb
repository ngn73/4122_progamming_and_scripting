{
 "cells": [
  {
   "cell_type": "markdown",
   "metadata": {},
   "source": [
    "# Lab Topic 05-Data Structures Quiz"
   ]
  },
  {
   "cell_type": "markdown",
   "metadata": {},
   "source": [
    "For the programs in the other activities, I would suggest that you create a folder\n",
    "called labs and a subdirectory topic05-datastructures, or (week05-\n",
    "datastructures, whichever you wish) in your mywork directory.</br>\n",
    "You can save the programs you create in this lab in there.</br>\n",
    "I do not correct the programs you write for the labs, just the weekly tasks."
   ]
  },
  {
   "cell_type": "code",
   "execution_count": 5,
   "metadata": {},
   "outputs": [],
   "source": [
    "numberOfQuestions = 5\n",
    "averageAge = 23.4\n",
    "debugMode = True\n",
    "name = \"joe\"\n",
    "ages = []\n",
    "months = ('Jan', 'Feb', 'Mar')\n",
    "book = {}\n",
    "stuff = [ 12 , 'Fred', False, {}]\n",
    "someone = dict(firstname = \"joe\")\n",
    "me = {\n",
    "    \"firstName\" : \"Andrew\",\n",
    "    \"teaching\" : [{\n",
    "                    \"courseName\" : \"programming\",\n",
    "                    \"semester\" : 1\n",
    "                },\n",
    "                {\n",
    "                    \"courseName\" : \"Data Representation\",\n",
    "                    \"semester\" : 2\n",
    "                }\n",
    "                ]\n",
    "}\n"
   ]
  },
  {
   "cell_type": "markdown",
   "metadata": {},
   "source": [
    "What are the variable types of the following variables in the code above</br>\n",
    "a. numberOfQuestions</br>*Integer*</br>\n",
    "b. averageAge</br>*Float*</br>\n",
    "c. debugMode</br>*Boolean*<br>\n",
    "d. name</br>*String*</br>\n",
    "e. ages</br>*List*</br>\n",
    "f. months</br>*Tuple*</br>\n",
    "g. months[1]</br>*String*</br>\n",
    "h. book</br>*Dictionary*</br>\n",
    "i. stuff</br>*List*</br>\n",
    "j. stuff[2]</br>*Booean*</br>\n",
    "k. someone</br>*Dictionary*</br>\n",
    "l. someone[\"firstname\"]</br>*String*</br>\n",
    "m. me</br>*Dictionary*</br>\n",
    "n. me[\"teaching\"]</br>*List*</br>\n",
    "o. me[\"teaching\"][0][\"semester\"]</br>*Integer (1)*</br>\n",
    "p is a trick question look at it carefully</br>\n",
    "p. me[\"teaching\"][0][\"coursename\"]</br >*\"coursename\" not capitialised ... Error!*</br>"
   ]
  },
  {
   "cell_type": "markdown",
   "metadata": {},
   "source": [
    "Create a tuple that stores the months of the year, from that tuple create\n",
    "another tuple with just the summer months (May, June, July), print out the\n",
    "summer months one at a time.</br>\n",
    "May</br>\n",
    "June</br>\n",
    "july</br>\n"
   ]
  },
  {
   "cell_type": "code",
   "execution_count": 7,
   "metadata": {},
   "outputs": [
    {
     "name": "stdout",
     "output_type": "stream",
     "text": [
      "May\n",
      "June\n",
      "July\n"
     ]
    }
   ],
   "source": [
    "months =(\"January\",\n",
    "\"February\",\n",
    "\"March\",\n",
    "\"April\",\n",
    "\"May\",\n",
    "\"June\",\n",
    "\"July\",\n",
    "\"August\",\n",
    "\"September\",\n",
    "\"October\",\n",
    "\"November\",\n",
    "\"December\"\n",
    ")\n",
    "summer = months[4:7]\n",
    "for month in summer:\n",
    "    print(month)"
   ]
  },
  {
   "cell_type": "markdown",
   "metadata": {},
   "source": [
    "Create a program that puts 10 random numbers into a queue(list), the\n",
    "program should then output all the values in the queue, then take the\n",
    "numbers from the queue one at a time, print it and the current numbers still\n",
    "in the queue. (the command pop(0) takes the first element out of a list)"
   ]
  },
  {
   "cell_type": "code",
   "execution_count": null,
   "metadata": {},
   "outputs": [
    {
     "name": "stdout",
     "output_type": "stream",
     "text": [
      "queue id [85, 91, 9, 36, 49, 82, 20, 50, 50, 96]\n",
      "current Number id 85 and the queue is [91, 9, 36, 49, 82, 20, 50, 50, 96]\n",
      "current Number id 91 and the queue is [9, 36, 49, 82, 20, 50, 50, 96]\n",
      "current Number id 9 and the queue is [36, 49, 82, 20, 50, 50, 96]\n",
      "current Number id 36 and the queue is [49, 82, 20, 50, 50, 96]\n",
      "current Number id 49 and the queue is [82, 20, 50, 50, 96]\n",
      "current Number id 82 and the queue is [20, 50, 50, 96]\n",
      "current Number id 20 and the queue is [50, 50, 96]\n",
      "current Number id 50 and the queue is [50, 96]\n",
      "current Number id 50 and the queue is [96]\n",
      "current Number id 96 and the queue is []\n",
      "the queue is now empty\n"
     ]
    }
   ],
   "source": [
    "import random\n",
    "rnd_numbers = []\n",
    "\n",
    "for index in range(0, 10):\n",
    "    rnd_numbers.append(random.randint(0, 100))\n",
    "\n",
    "print(f\"queue id {rnd_numbers}\")\n",
    "\n",
    "while len(rnd_numbers) != 0:\n",
    "    popped_num = rnd_numbers.pop(0)\n",
    "    print(f\"current Number id {popped_num} and the queue is {rnd_numbers}\") #Need to use printf format\n",
    "\n",
    "print(\"the queue is now empty\")"
   ]
  },
  {
   "cell_type": "markdown",
   "metadata": {},
   "source": [
    "Write a program that stores a student name and a list of her courses and\n",
    "grades in a dict, the program should then print out her data.</br>\n",
    "The number of course she has could change</br>"
   ]
  },
  {
   "cell_type": "code",
   "execution_count": 31,
   "metadata": {},
   "outputs": [
    {
     "name": "stdout",
     "output_type": "stream",
     "text": [
      "Student: Niall\n",
      "\tMath\t:58\n",
      "\tEnglish\t:41\n"
     ]
    }
   ],
   "source": [
    "student = {\n",
    "            \"name\": \"Niall\",\n",
    "            \"courses\": [\n",
    "                {\n",
    "                    \"coursename\":\"Math\",\n",
    "                    \"grade\": 58\n",
    "                },\n",
    "                {\n",
    "                    \"coursename\":\"English\",\n",
    "                    \"grade\": 41\n",
    "                }\n",
    "            ]\n",
    "}\n",
    "\n",
    "print(f\"Student: {student['name']}\")\n",
    "for course in student[\"courses\"]:\n",
    "    print(f\"\\t{course['coursename']}\\t:{course['grade']}\")"
   ]
  },
  {
   "cell_type": "markdown",
   "metadata": {},
   "source": [
    "Extra</br>\n",
    "5. Write a program that will read in the data for the data structure above, ie\n",
    "reads in a student’s name, then keeps reading in their modules and grades\n",
    "(until the user enters a blank module name),</br>\n",
    "You can break this up into two parts:</br>\n",
    "a. Just read in the module names until the user enters blank,</br>\n",
    "b. Then read in the grade as well</br>\n",
    "This program can just read in one student (and their module details).</br>\n",
    "6. If you want to go a step further, read in multiple students (until the\n",
    "student_name is blank.</br>\n",
    "Next week we will be looking at functions and we will implement something</br>\n",
    "like this.</br>"
   ]
  },
  {
   "cell_type": "code",
   "execution_count": 32,
   "metadata": {},
   "outputs": [
    {
     "name": "stdout",
     "output_type": "stream",
     "text": [
      "goodbye\n"
     ]
    }
   ],
   "source": [
    "#Loop until User enters a blank Student Name\n",
    "students = []\n",
    "while True:\n",
    "    student_name = input(\"Enter a Student Name(or blank to stop): \")\n",
    "    if student_name == \"\":\n",
    "        print(\"goodbye\")\n",
    "        break\n",
    "    #Loop until User enters a blank Module Name\n",
    "    student_courses = []\n",
    "    while True:\n",
    "        student_module = input(\"Enter a Student Module (or blank to stop entering Modules): \")\n",
    "        if student_module ==\"\":\n",
    "            break\n",
    "\n",
    "        student_grade = input(f\"Enter a Student grade for {student_module}: \")\n",
    "        student_courses.append({\"module\":student_module, \"grade\":student_grade})\n",
    "        \n",
    "\n",
    "for student in students:\n",
    "    print(f\"Student: {student['name']}\")\n",
    "    for course in student[\"courses\"]:\n",
    "        print(f\"\\t{course['coursename']}\\t:{course['grade']}\")"
   ]
  },
  {
   "cell_type": "markdown",
   "metadata": {},
   "source": [
    "<font color=\"red\">** NOT WORKING FOR NOW ... IT IS NOT REACHING LAST PRINT() SECTION ...  Review later !  **</font>"
   ]
  }
 ],
 "metadata": {
  "kernelspec": {
   "display_name": "base",
   "language": "python",
   "name": "python3"
  },
  "language_info": {
   "codemirror_mode": {
    "name": "ipython",
    "version": 3
   },
   "file_extension": ".py",
   "mimetype": "text/x-python",
   "name": "python",
   "nbconvert_exporter": "python",
   "pygments_lexer": "ipython3",
   "version": "3.12.7"
  }
 },
 "nbformat": 4,
 "nbformat_minor": 2
}
